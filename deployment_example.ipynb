{
 "cells": [
  {
   "cell_type": "markdown",
   "metadata": {},
   "source": [
    "# Deployment Example and Analysis Code\n",
    "\n",
    "This notebook demonstrates how the ML models we created can be deployed for stability and causality analysis of the EoS's."
   ]
  },
  {
   "cell_type": "markdown",
   "metadata": {},
   "source": [
    "First, we will import a model and its respective scaler, which have been saved as .pkl files."
   ]
  },
  {
   "cell_type": "code",
   "execution_count": 1,
   "metadata": {},
   "outputs": [
    {
     "name": "stderr",
     "output_type": "stream",
     "text": [
      "/opt/homebrew/anaconda3/lib/python3.9/site-packages/sklearn/base.py:310: UserWarning: Trying to unpickle estimator StandardScaler from version 0.23.1 when using version 0.24.2. This might lead to breaking code or invalid results. Use at your own risk.\n",
      "  warnings.warn(\n",
      "/opt/homebrew/anaconda3/lib/python3.9/site-packages/sklearn/base.py:310: UserWarning: Trying to unpickle estimator DecisionTreeClassifier from version 0.23.1 when using version 0.24.2. This might lead to breaking code or invalid results. Use at your own risk.\n",
      "  warnings.warn(\n",
      "/opt/homebrew/anaconda3/lib/python3.9/site-packages/sklearn/base.py:310: UserWarning: Trying to unpickle estimator RandomForestClassifier from version 0.23.1 when using version 0.24.2. This might lead to breaking code or invalid results. Use at your own risk.\n",
      "  warnings.warn(\n",
      "/opt/homebrew/anaconda3/lib/python3.9/site-packages/sklearn/base.py:310: UserWarning: Trying to unpickle estimator GridSearchCV from version 0.23.1 when using version 0.24.2. This might lead to breaking code or invalid results. Use at your own risk.\n",
      "  warnings.warn(\n"
     ]
    }
   ],
   "source": [
    "import os\n",
    "import pickle\n",
    "\n",
    "def pickle_load(fname):\n",
    "\n",
    "    file = open(fname,'rb')\n",
    "    data = pickle.load(file)\n",
    "    file.close()\n",
    "\n",
    "    return data\n",
    "\n",
    "#This contains all the files associated with a particular model\n",
    "model_directory = 'Files_12_03_param_only_RfModel_MarginSamplingSelection/'\n",
    "\n",
    "scaler = pickle_load(model_directory + 'scaler.pkl')\n",
    "model = pickle_load(model_directory + 'model.pkl')"
   ]
  },
  {
   "cell_type": "markdown",
   "metadata": {},
   "source": [
    "## Time-scale benchmarking\n",
    "Now we want to do a timing analysis by benchmarking how long it takes to scale and classify 2k, 5k, 7k, 10k, 20k, and 30k samples. \n",
    "\n",
    "We picked a model that takes in EoS input parameters. Let's generate a grid that contains the space on which the model was trained (this information is in '~/config/parameter_space.json'). We can change the step-size by changing the corresponding default parameters. "
   ]
  },
  {
   "cell_type": "code",
   "execution_count": 2,
   "metadata": {},
   "outputs": [
    {
     "name": "stdout",
     "output_type": "stream",
     "text": [
      "{'low_muB': 220.0, 'high_muB': 420.0, 'low_w': 0.1, 'high_w': 10.0, 'low_rho': 0.1, 'high_rho': 10.0, 'low_angle_diff': -179.0, 'high_angle_diff': 179.0, 'muB_inc': 20, 'w_rho_inc': 0.5, 'angle_diff_inc': 5}\n"
     ]
    }
   ],
   "source": [
    "import json\n",
    "import numpy as np\n",
    "import random\n",
    "import pandas as pd\n",
    "import itertools\n",
    "\n",
    "with open(\"config/parameter_space.json\") as json_data_file:\n",
    "    par = json.load(json_data_file)\n",
    "    low_muB = par['low_muB']\n",
    "    high_muB = par['high_muB']\n",
    "    muB_inc = par['muB_inc']\n",
    "    low_w = par['low_w']\n",
    "    high_w = par['high_w']\n",
    "    low_rho = par['low_rho']\n",
    "    high_rho = par['high_rho']\n",
    "    w_rho_inc = par['w_rho_inc']\n",
    "    low_angle_diff = par['low_angle_diff']\n",
    "    high_angle_diff = par['high_angle_diff']\n",
    "    angle_diff_inc = par['angle_diff_inc']\n",
    "    \n",
    "    print(par)\n"
   ]
  },
  {
   "cell_type": "code",
   "execution_count": 3,
   "metadata": {},
   "outputs": [],
   "source": [
    "#By looking at the default values, we see that angle_diff_inc is set to 5 degrees. Let's change that to 3.\n",
    "#We'll also change the muB_inc parameter to 25 MeV\n",
    "angle_diff_inc = 3\n",
    "muB_inc = 25"
   ]
  },
  {
   "cell_type": "code",
   "execution_count": 4,
   "metadata": {},
   "outputs": [],
   "source": [
    "#Now we'll create a list with all possible values and combinations. \n",
    "\n",
    "muB_list = np.arange(low_muB, high_muB, muB_inc).tolist()\n",
    "w_list = np.arange(low_w, high_w, w_rho_inc).tolist()\n",
    "rho_list = np.arange(low_rho, high_rho, w_rho_inc).tolist()\n",
    "angle_diff_list = np.arange(low_angle_diff, high_angle_diff, angle_diff_inc).tolist()\n",
    "\n",
    "ranges = [muB_list, angle_diff_list, w_list, rho_list]\n",
    "all_possible_combinations = list(itertools.product(*ranges))\n",
    "\n",
    "\n",
    "\n",
    "#Create a Pandas Data Frame with all the possible parameters and their combination in a list\n",
    "EOS =pd.DataFrame(data=all_possible_combinations, columns=['muB','angle_diff','w','rho'])\n",
    "\n",
    "\n",
    "#combine all values into a list\n",
    "EOS['combined']= EOS.values.tolist()\n"
   ]
  },
  {
   "cell_type": "markdown",
   "metadata": {},
   "source": [
    "Let's check that everything looks ready to be preprocessed. "
   ]
  },
  {
   "cell_type": "code",
   "execution_count": 5,
   "metadata": {},
   "outputs": [
    {
     "data": {
      "text/html": [
       "<div>\n",
       "<style scoped>\n",
       "    .dataframe tbody tr th:only-of-type {\n",
       "        vertical-align: middle;\n",
       "    }\n",
       "\n",
       "    .dataframe tbody tr th {\n",
       "        vertical-align: top;\n",
       "    }\n",
       "\n",
       "    .dataframe thead th {\n",
       "        text-align: right;\n",
       "    }\n",
       "</style>\n",
       "<table border=\"1\" class=\"dataframe\">\n",
       "  <thead>\n",
       "    <tr style=\"text-align: right;\">\n",
       "      <th></th>\n",
       "      <th>muB</th>\n",
       "      <th>angle_diff</th>\n",
       "      <th>w</th>\n",
       "      <th>rho</th>\n",
       "      <th>combined</th>\n",
       "    </tr>\n",
       "  </thead>\n",
       "  <tbody>\n",
       "    <tr>\n",
       "      <th>0</th>\n",
       "      <td>220.0</td>\n",
       "      <td>-179.0</td>\n",
       "      <td>0.1</td>\n",
       "      <td>0.1</td>\n",
       "      <td>[220.0, -179.0, 0.1, 0.1]</td>\n",
       "    </tr>\n",
       "    <tr>\n",
       "      <th>1</th>\n",
       "      <td>220.0</td>\n",
       "      <td>-179.0</td>\n",
       "      <td>0.1</td>\n",
       "      <td>0.6</td>\n",
       "      <td>[220.0, -179.0, 0.1, 0.6]</td>\n",
       "    </tr>\n",
       "    <tr>\n",
       "      <th>2</th>\n",
       "      <td>220.0</td>\n",
       "      <td>-179.0</td>\n",
       "      <td>0.1</td>\n",
       "      <td>1.1</td>\n",
       "      <td>[220.0, -179.0, 0.1, 1.1]</td>\n",
       "    </tr>\n",
       "    <tr>\n",
       "      <th>3</th>\n",
       "      <td>220.0</td>\n",
       "      <td>-179.0</td>\n",
       "      <td>0.1</td>\n",
       "      <td>1.6</td>\n",
       "      <td>[220.0, -179.0, 0.1, 1.6]</td>\n",
       "    </tr>\n",
       "    <tr>\n",
       "      <th>4</th>\n",
       "      <td>220.0</td>\n",
       "      <td>-179.0</td>\n",
       "      <td>0.1</td>\n",
       "      <td>2.1</td>\n",
       "      <td>[220.0, -179.0, 0.1, 2.1]</td>\n",
       "    </tr>\n",
       "  </tbody>\n",
       "</table>\n",
       "</div>"
      ],
      "text/plain": [
       "     muB  angle_diff    w  rho                   combined\n",
       "0  220.0      -179.0  0.1  0.1  [220.0, -179.0, 0.1, 0.1]\n",
       "1  220.0      -179.0  0.1  0.6  [220.0, -179.0, 0.1, 0.6]\n",
       "2  220.0      -179.0  0.1  1.1  [220.0, -179.0, 0.1, 1.1]\n",
       "3  220.0      -179.0  0.1  1.6  [220.0, -179.0, 0.1, 1.6]\n",
       "4  220.0      -179.0  0.1  2.1  [220.0, -179.0, 0.1, 2.1]"
      ]
     },
     "execution_count": 5,
     "metadata": {},
     "output_type": "execute_result"
    }
   ],
   "source": [
    "EOS.head()"
   ]
  },
  {
   "cell_type": "markdown",
   "metadata": {},
   "source": [
    "Our input now has the same format as our training data, so we're ready to take some samples. We will track how much time (in seconds per sample) it takes to scale and classify our input in each of the cases.\n",
    "\n",
    "Assuming that we did not have ML-assited classification, each EOS requires a full generation + classification code. Running on a single CPU on the Illinois cluster, this takes about 30-50 seconds to complete. Let's take the average time to complete the analysis to be 40 seconds. This scales linearly with the number of EOS as time = 40*n_samples. This very quickly gets out of hand, wheareas with the ML classifer, after the initial computational investment to train the model, we can classify thousands of EOS in possibly miliseconds. So what is the gained speed factor? We'll look at both the ML-classification time per sample, and the speed gain factor compared to conventional classification. "
   ]
  },
  {
   "cell_type": "code",
   "execution_count": 6,
   "metadata": {},
   "outputs": [],
   "source": [
    "#Create lists of EoS's to label with the desired number of samples\n",
    "import time \n",
    "\n",
    "n_samples = [2000,5000,7000, 10000,15000,20000,30000]\n",
    "\n",
    "ML_times = []\n",
    "speed_gain_factor = []\n",
    "\n",
    "#Repeat experiment 50x\n",
    "for iteration in range(0,50):\n",
    "    time_as_a_func_of_n = [] #Reset every time the experiment is run\n",
    "    time_by_itself = []\n",
    "    for num_samples in n_samples:\n",
    "        \n",
    "        samples = random.sample(list(EOS['combined']), num_samples) #sample n combinations of parameters\n",
    "\n",
    "        #initiate timer\n",
    "        start = time.time()\n",
    "        #transform input\n",
    "        samples_scaled = scaler.transform(samples)\n",
    "        #make predictions\n",
    "        labels = model.predict(samples_scaled)\n",
    "        #end timer and record total time\n",
    "        end = time.time()\n",
    "        time_as_a_func_of_n.append((end - start)/len(samples_scaled))\n",
    "        time_by_itself.append((end - start)/len(samples_scaled))\n",
    "    speed_gain_factor_of_interation = [40/j for j in time_by_itself]\n",
    "        \n",
    "    ML_times.append(time_as_a_func_of_n)\n",
    "    speed_gain_factor.append(speed_gain_factor_of_interation)\n",
    "    "
   ]
  },
  {
   "cell_type": "code",
   "execution_count": 7,
   "metadata": {},
   "outputs": [],
   "source": [
    "#Let's store our results in data frames\n",
    "ML_times_df = pd.DataFrame(ML_times, columns = ['2k','5k','7k','10k','15k','20k','30k']);\n",
    "\n",
    "speed_gain_df =  pd.DataFrame(speed_gain_factor, columns = ['2k','5k','7k','10k','15k','20k','30k']);\n",
    "\n",
    "#Then let's take the mean, max, and min for each value of n_samples in both cases "
   ]
  },
  {
   "cell_type": "code",
   "execution_count": 8,
   "metadata": {},
   "outputs": [],
   "source": [
    "#Perform jackknife sampling to determine mean estimate and 95% confidence interval\n",
    "\n",
    "from astropy.stats import jackknife_stats\n",
    "\n",
    "test_statistic = np.mean\n",
    "\n",
    "ML_mean = []\n",
    "ML_lower_error = []\n",
    "ML_upper_error = []\n",
    "\n",
    "speed_gain_mean = []\n",
    "speed_gain_lower_error = []\n",
    "speed_gain_upper_error =[]\n",
    "\n",
    "\n",
    "for column in ['2k','5k','7k','10k','15k','20k','30k']:\n",
    "    estimate, bias, stderr, conf_interval = jackknife_stats(ML_times_df[column].values, test_statistic, 0.682)\n",
    "    \n",
    "    ML_mean.append(estimate)\n",
    "    ML_lower_error.append(conf_interval[0])\n",
    "    ML_upper_error.append(conf_interval[1])\n",
    "    \n",
    "    estimate, bias, stderr, conf_interval = jackknife_stats(speed_gain_df[column].values, test_statistic, 0.682)\n",
    "    \n",
    "    speed_gain_mean.append(estimate)\n",
    "    speed_gain_lower_error.append(conf_interval[0])\n",
    "    speed_gain_upper_error.append(conf_interval[1])\n",
    "\n",
    "\n",
    "    \n",
    "ML_times_error= [ML_lower_error, ML_upper_error]\n",
    "speed_gain_error= [speed_gain_lower_error, speed_gain_upper_error]"
   ]
  },
  {
   "cell_type": "markdown",
   "metadata": {},
   "source": [
    "Let's plot our results... "
   ]
  },
  {
   "cell_type": "code",
   "execution_count": 9,
   "metadata": {},
   "outputs": [
    {
     "data": {
      "image/png": "[encoded data removed]",
      "text/plain": [
       "<Figure size 576x576 with 2 Axes>"
      ]
     },
     "metadata": {
      "needs_background": "light"
     },
     "output_type": "display_data"
    }
   ],
   "source": [
    "import matplotlib.pyplot as plt\n",
    "import matplotlib as mpl \n",
    "\n",
    "plt.rcParams['font.size'] = 20\n",
    "plt.rcParams['figure.figsize'] = [8,8]\n",
    "plt.rcParams['font.family'] = 'helvetica'\n",
    "plt.rcParams['lines.markersize'] = 12\n",
    "\n",
    "# #define error bars\n",
    "# ML_lower_error = ML_times_df.loc['min'].values\n",
    "# ML_upper_error = ML_times_df.loc['max'].values\n",
    "# ML_times_error= [ML_lower_error, ML_upper_error]\n",
    "\n",
    "# #define error bars\n",
    "# speed_gain_lower_error = speed_gain_df.loc['min'].values\n",
    "# speed_gain_upper_error = speed_gain_df.loc['max'].values\n",
    "# speed_gain_error= [speed_gain_lower_error, speed_gain_upper_error]\n",
    "\n",
    "fig, (ax1, ax2) = plt.subplots(nrows=2, sharex=True)\n",
    "\n",
    "ax2.set_xlabel('Number of EoS classified')\n",
    "ax1.set_title('ML Execution time [s/sample]', fontdict = {'fontsize': 20})\n",
    "\n",
    "ax1.errorbar(n_samples, ML_mean, yerr=ML_times_error, fmt='-o',color='blue',\n",
    "            capsize = 5)\n",
    "ax1.tick_params(axis='y')\n",
    "\n",
    "\n",
    "ax2.set_title('Speed gain factor ($t_{conventional}/t_{ML}$)',fontdict = {'fontsize': 20}) \n",
    "ax2.errorbar(n_samples, speed_gain_mean, yerr=speed_gain_error, fmt='-o',color='red',\n",
    "            capsize = 5)\n",
    "ax2.tick_params(axis='y')\n",
    "\n",
    "ax1.set_yscale('log')\n",
    "ax2.set_yscale('log')\n",
    "plt.savefig('Plots/execution_and_speed_gain', bbox_inches='tight')\n",
    "fig.tight_layout()  # otherwise the right y-label is slightly clipped\n",
    "plt.show()\n",
    "\n"
   ]
  },
  {
   "cell_type": "markdown",
   "metadata": {},
   "source": [
    "### The data in this range suggests we gain 6 orders of magnitude in speed. \n",
    "\n",
    "----------------------------------------------------------------------------------------------------------------"
   ]
  },
  {
   "cell_type": "markdown",
   "metadata": {},
   "source": [
    "# Studying the Parameter Space of the BEST EoS "
   ]
  },
  {
   "cell_type": "markdown",
   "metadata": {},
   "source": [
    "Let's reset our paramater space ranges and increments back to the default values. "
   ]
  },
  {
   "cell_type": "code",
   "execution_count": 15,
   "metadata": {},
   "outputs": [
    {
     "name": "stdout",
     "output_type": "stream",
     "text": [
      "{'low_muB': 220.0, 'high_muB': 420.0, 'low_w': 0.1, 'high_w': 10.0, 'low_rho': 0.1, 'high_rho': 10.0, 'low_angle_diff': -179.0, 'high_angle_diff': 179.0, 'muB_inc': 20, 'w_rho_inc': 0.5, 'angle_diff_inc': 5}\n"
     ]
    }
   ],
   "source": [
    "with open(\"config/parameter_space.json\") as json_data_file:\n",
    "    par = json.load(json_data_file)\n",
    "    low_muB = par['low_muB']\n",
    "    high_muB = par['high_muB']\n",
    "    muB_inc = par['muB_inc']\n",
    "    low_w = par['low_w']\n",
    "    high_w = par['high_w']\n",
    "    low_rho = par['low_rho']\n",
    "    high_rho = par['high_rho']\n",
    "    w_rho_inc = par['w_rho_inc']\n",
    "    low_angle_diff = par['low_angle_diff']\n",
    "    high_angle_diff = par['high_angle_diff']\n",
    "    angle_diff_inc = par['angle_diff_inc']\n",
    "    \n",
    "    print(par)"
   ]
  },
  {
   "cell_type": "code",
   "execution_count": 16,
   "metadata": {},
   "outputs": [],
   "source": [
    "# Make plot: fixed alpha, fixed muB – show that rho is\n",
    "# more important than w\n",
    "# fix rho and muB, show smallest w as a function of alpha"
   ]
  },
  {
   "cell_type": "markdown",
   "metadata": {},
   "source": [
    "Let's say we want to fix $\\alpha_{\\mathrm{diff}}$ = 10, 30, 90, 120 degrees and $\\mu_{BC}$ = 400 MeV and investigate the effects of changing $\\rho$ and $w$ on the stability/causality of the BEST EoS. "
   ]
  },
  {
   "cell_type": "code",
   "execution_count": 17,
   "metadata": {},
   "outputs": [],
   "source": [
    "#Modify input parameters\n",
    "muB = [400]\n",
    "angle_diff = [10,30,90,120]\n",
    "\n",
    "#Now we'll create a list with all possible values and combinations. \n",
    "\n",
    "w_list = np.arange(low_w, high_w, w_rho_inc).tolist()\n",
    "rho_list = np.arange(low_rho, high_rho, w_rho_inc).tolist()\n",
    "\n",
    "ranges = [muB, angle_diff, w_list, rho_list]\n",
    "all_possible_combinations = list(itertools.product(*ranges))\n",
    "\n",
    "\n",
    "\n",
    "#Create a Pandas Data Frame with all the possible parameters and their combination in a list\n",
    "EOS =pd.DataFrame(data=all_possible_combinations, columns=['muB','angle_diff','w','rho'])\n",
    "\n",
    "\n",
    "#combine all values into a list\n",
    "EOS['combined']= EOS.values.tolist()"
   ]
  },
  {
   "cell_type": "code",
   "execution_count": 18,
   "metadata": {},
   "outputs": [
    {
     "data": {
      "text/html": [
       "<div>\n",
       "<style scoped>\n",
       "    .dataframe tbody tr th:only-of-type {\n",
       "        vertical-align: middle;\n",
       "    }\n",
       "\n",
       "    .dataframe tbody tr th {\n",
       "        vertical-align: top;\n",
       "    }\n",
       "\n",
       "    .dataframe thead th {\n",
       "        text-align: right;\n",
       "    }\n",
       "</style>\n",
       "<table border=\"1\" class=\"dataframe\">\n",
       "  <thead>\n",
       "    <tr style=\"text-align: right;\">\n",
       "      <th></th>\n",
       "      <th>muB</th>\n",
       "      <th>angle_diff</th>\n",
       "      <th>w</th>\n",
       "      <th>rho</th>\n",
       "      <th>combined</th>\n",
       "    </tr>\n",
       "  </thead>\n",
       "  <tbody>\n",
       "    <tr>\n",
       "      <th>0</th>\n",
       "      <td>400</td>\n",
       "      <td>10</td>\n",
       "      <td>0.1</td>\n",
       "      <td>0.1</td>\n",
       "      <td>[400.0, 10.0, 0.1, 0.1]</td>\n",
       "    </tr>\n",
       "    <tr>\n",
       "      <th>1</th>\n",
       "      <td>400</td>\n",
       "      <td>10</td>\n",
       "      <td>0.1</td>\n",
       "      <td>0.6</td>\n",
       "      <td>[400.0, 10.0, 0.1, 0.6]</td>\n",
       "    </tr>\n",
       "    <tr>\n",
       "      <th>2</th>\n",
       "      <td>400</td>\n",
       "      <td>10</td>\n",
       "      <td>0.1</td>\n",
       "      <td>1.1</td>\n",
       "      <td>[400.0, 10.0, 0.1, 1.1]</td>\n",
       "    </tr>\n",
       "    <tr>\n",
       "      <th>3</th>\n",
       "      <td>400</td>\n",
       "      <td>10</td>\n",
       "      <td>0.1</td>\n",
       "      <td>1.6</td>\n",
       "      <td>[400.0, 10.0, 0.1, 1.6]</td>\n",
       "    </tr>\n",
       "    <tr>\n",
       "      <th>4</th>\n",
       "      <td>400</td>\n",
       "      <td>10</td>\n",
       "      <td>0.1</td>\n",
       "      <td>2.1</td>\n",
       "      <td>[400.0, 10.0, 0.1, 2.1]</td>\n",
       "    </tr>\n",
       "  </tbody>\n",
       "</table>\n",
       "</div>"
      ],
      "text/plain": [
       "   muB  angle_diff    w  rho                 combined\n",
       "0  400          10  0.1  0.1  [400.0, 10.0, 0.1, 0.1]\n",
       "1  400          10  0.1  0.6  [400.0, 10.0, 0.1, 0.6]\n",
       "2  400          10  0.1  1.1  [400.0, 10.0, 0.1, 1.1]\n",
       "3  400          10  0.1  1.6  [400.0, 10.0, 0.1, 1.6]\n",
       "4  400          10  0.1  2.1  [400.0, 10.0, 0.1, 2.1]"
      ]
     },
     "execution_count": 18,
     "metadata": {},
     "output_type": "execute_result"
    }
   ],
   "source": [
    "EOS.head()"
   ]
  },
  {
   "cell_type": "code",
   "execution_count": 19,
   "metadata": {},
   "outputs": [],
   "source": [
    "#Transform input variables and make predictions (add as a column to the DataFrame)\n",
    "EOS_scaled = scaler.transform(list(EOS['combined']))\n",
    "#make predictions\n",
    "EOS['labels'] = model.predict(EOS_scaled)"
   ]
  },
  {
   "cell_type": "code",
   "execution_count": 21,
   "metadata": {},
   "outputs": [
    {
     "data": {
      "image/png": "[encoded data removed]",
      "text/plain": [
       "<Figure size 576x576 with 5 Axes>"
      ]
     },
     "metadata": {
      "needs_background": "light"
     },
     "output_type": "display_data"
    }
   ],
   "source": [
    "#Plot\n",
    "from matplotlib.colors import ListedColormap\n",
    "\n",
    "# Let's also design our color mapping: 1s should be plotted in blue, 2s in red, etc...\n",
    "col_dict={0:\"darkorange\",\n",
    "          1:\"turquoise\",\n",
    "          2:\"darkorchid\"}\n",
    "\n",
    "# We create a colormap from our list of colors\n",
    "cm = ListedColormap([col_dict[x] for x in col_dict.keys()])\n",
    "\n",
    "# Let's also define the description of each category : 1 (blue) is Sea; 2 (red) is burnt, etc... Order should be respected here ! Or using another dict maybe could help.\n",
    "col_labels = np.array([\"Unstable + Acausal\",\"Acceptable\",\"Acausal\"])\n",
    "len_lab = len(col_labels)\n",
    "\n",
    "# prepare normalizer\n",
    "## Prepare bins for the normalizer\n",
    "norm_bins = np.sort([*col_dict.keys()]) + 0.5\n",
    "norm_bins = np.insert(norm_bins, 0, np.min(norm_bins) - 1.0)\n",
    "\n",
    "## Make normalizer and formatter\n",
    "norm = mpl.colors.BoundaryNorm(norm_bins, len_lab, clip=True)\n",
    "fmt = mpl.ticker.FuncFormatter(lambda x, pos: col_labels[norm(x)])\n",
    "\n",
    "\n",
    "fig, axs = plt.subplots(2, 2)\n",
    "\n",
    "axs[0, 0].scatter(EOS[EOS['angle_diff'] == 10]['w'].values, EOS[EOS['angle_diff'] == 10]['rho'].values,\n",
    "                 marker = 's', s= 76, c = EOS[EOS['angle_diff'] == 10]['labels'].values,cmap=cm, norm=norm)\n",
    "axs[0, 0].set_title(r\"$\\alpha_{diff} = 10^o$\")\n",
    "\n",
    "\n",
    "axs[0, 1].scatter(EOS[EOS['angle_diff'] == 30]['w'].values, EOS[EOS['angle_diff'] == 30]['rho'].values, \n",
    "              marker = 's', s= 76, c = EOS[EOS['angle_diff'] == 30]['labels'].values,cmap=cm, norm=norm)\n",
    "axs[0, 1].set_title(r\"$\\alpha_{diff} = 30^o$\")\n",
    "\n",
    "\n",
    "axs[1, 0].scatter(EOS[EOS['angle_diff'] == 90]['w'].values, EOS[EOS['angle_diff'] == 90]['rho'].values,\n",
    "                 marker = 's', s=76, c = EOS[EOS['angle_diff'] == 90]['labels'].values,cmap=cm, norm=norm)\n",
    "axs[1, 0].set_title(r\"$\\alpha_{diff} = 90^o$\")\n",
    "\n",
    "a = axs[1, 1].scatter(EOS[EOS['angle_diff'] == 120]['w'].values, EOS[EOS['angle_diff'] == 120]['rho'].values, \n",
    "                 marker = 's', s= 76, c = EOS[EOS['angle_diff'] == 120]['labels'].values,cmap=cm, norm=norm)\n",
    "axs[1, 1].set_title(r\"$\\alpha_{diff} = 120^o$\")\n",
    "\n",
    "for ax in axs.flat:\n",
    "    ax.set(xlabel=r'$w$', ylabel=r'$\\rho$')\n",
    "\n",
    "# Hide x labels and tick labels for top plots and y ticks for right plots.\n",
    "for ax in axs.flat:\n",
    "    ax.label_outer()\n",
    "#     [left, bottom, width, height] \n",
    "cb_ax = fig.add_axes([.12,-0.02,.78,.05])\n",
    "cb = fig.colorbar(a, ticks=[0., 1, 2], format=fmt,cax=cb_ax,orientation=\"horizontal\")\n",
    "\n",
    "\n",
    "fig.savefig('Plots/vary_w_and_rho',bbox_inches='tight')"
   ]
  },
  {
   "cell_type": "markdown",
   "metadata": {},
   "source": [
    "Let's say we want to fix $\\mu_{BC}$ = 250, 300, 350, 400 MeV and $\\rho$ = 2, and investigate the smallest $w$ for which the you can produce a stable EoS as a function of $\\alpha_\\textrm{diff}$. In other words, for a particular location of the critical point, what is the largest critical region I can produce for a given angle when $\\rho$ = 2?"
   ]
  },
  {
   "cell_type": "code",
   "execution_count": 18,
   "metadata": {},
   "outputs": [],
   "source": [
    "#Once again, we reset our parameters\n",
    "\n",
    "with open(\"config/parameter_space.json\") as json_data_file:\n",
    "    par = json.load(json_data_file)\n",
    "    low_muB = par['low_muB']\n",
    "    high_muB = par['high_muB']\n",
    "    muB_inc = par['muB_inc']\n",
    "    low_w = par['low_w']\n",
    "    high_w = par['high_w']\n",
    "    low_rho = par['low_rho']\n",
    "    high_rho = par['high_rho']\n",
    "    w_rho_inc = par['w_rho_inc']\n",
    "    low_angle_diff = par['low_angle_diff']\n",
    "    high_angle_diff = par['high_angle_diff']\n",
    "    angle_diff_inc = par['angle_diff_inc']\n",
    "    \n",
    "\n",
    "#Modify input parameters\n",
    "muB = [250,300,350,400]\n",
    "rho = [2]\n",
    "#We need a finer sampling in w\n",
    "w_rho_inc = 0.1\n",
    "\n",
    "#Now we'll create a list with all possible values and combinations. \n",
    "\n",
    "w_list = np.arange(low_w, high_w, w_rho_inc).tolist()\n",
    "angle_diff_list = np.arange(low_angle_diff, high_angle_diff, angle_diff_inc).tolist()\n",
    "\n",
    "ranges = [muB, angle_diff_list, w_list, rho]\n",
    "all_possible_combinations = list(itertools.product(*ranges))\n",
    "\n",
    "\n",
    "\n",
    "#Create a Pandas Data Frame with all the possible parameters and their combination in a list\n",
    "EOS =pd.DataFrame(data=all_possible_combinations, columns=['muB','angle_diff','w','rho'])\n",
    "\n",
    "\n",
    "#combine all values into a list\n",
    "EOS['combined']= EOS.values.tolist()"
   ]
  },
  {
   "cell_type": "code",
   "execution_count": 19,
   "metadata": {},
   "outputs": [
    {
     "data": {
      "text/html": [
       "<div>\n",
       "<style scoped>\n",
       "    .dataframe tbody tr th:only-of-type {\n",
       "        vertical-align: middle;\n",
       "    }\n",
       "\n",
       "    .dataframe tbody tr th {\n",
       "        vertical-align: top;\n",
       "    }\n",
       "\n",
       "    .dataframe thead th {\n",
       "        text-align: right;\n",
       "    }\n",
       "</style>\n",
       "<table border=\"1\" class=\"dataframe\">\n",
       "  <thead>\n",
       "    <tr style=\"text-align: right;\">\n",
       "      <th></th>\n",
       "      <th>muB</th>\n",
       "      <th>angle_diff</th>\n",
       "      <th>w</th>\n",
       "      <th>rho</th>\n",
       "      <th>combined</th>\n",
       "      <th>labels</th>\n",
       "    </tr>\n",
       "  </thead>\n",
       "  <tbody>\n",
       "    <tr>\n",
       "      <th>0</th>\n",
       "      <td>250</td>\n",
       "      <td>-179.0</td>\n",
       "      <td>0.1</td>\n",
       "      <td>2</td>\n",
       "      <td>[250.0, -179.0, 0.1, 2.0]</td>\n",
       "      <td>0</td>\n",
       "    </tr>\n",
       "    <tr>\n",
       "      <th>1</th>\n",
       "      <td>250</td>\n",
       "      <td>-179.0</td>\n",
       "      <td>0.2</td>\n",
       "      <td>2</td>\n",
       "      <td>[250.0, -179.0, 0.2, 2.0]</td>\n",
       "      <td>0</td>\n",
       "    </tr>\n",
       "    <tr>\n",
       "      <th>2</th>\n",
       "      <td>250</td>\n",
       "      <td>-179.0</td>\n",
       "      <td>0.3</td>\n",
       "      <td>2</td>\n",
       "      <td>[250.0, -179.0, 0.30000000000000004, 2.0]</td>\n",
       "      <td>0</td>\n",
       "    </tr>\n",
       "    <tr>\n",
       "      <th>3</th>\n",
       "      <td>250</td>\n",
       "      <td>-179.0</td>\n",
       "      <td>0.4</td>\n",
       "      <td>2</td>\n",
       "      <td>[250.0, -179.0, 0.4, 2.0]</td>\n",
       "      <td>0</td>\n",
       "    </tr>\n",
       "    <tr>\n",
       "      <th>4</th>\n",
       "      <td>250</td>\n",
       "      <td>-179.0</td>\n",
       "      <td>0.5</td>\n",
       "      <td>2</td>\n",
       "      <td>[250.0, -179.0, 0.5, 2.0]</td>\n",
       "      <td>0</td>\n",
       "    </tr>\n",
       "  </tbody>\n",
       "</table>\n",
       "</div>"
      ],
      "text/plain": [
       "   muB  angle_diff    w  rho                                   combined  \\\n",
       "0  250      -179.0  0.1    2                  [250.0, -179.0, 0.1, 2.0]   \n",
       "1  250      -179.0  0.2    2                  [250.0, -179.0, 0.2, 2.0]   \n",
       "2  250      -179.0  0.3    2  [250.0, -179.0, 0.30000000000000004, 2.0]   \n",
       "3  250      -179.0  0.4    2                  [250.0, -179.0, 0.4, 2.0]   \n",
       "4  250      -179.0  0.5    2                  [250.0, -179.0, 0.5, 2.0]   \n",
       "\n",
       "   labels  \n",
       "0       0  \n",
       "1       0  \n",
       "2       0  \n",
       "3       0  \n",
       "4       0  "
      ]
     },
     "execution_count": 19,
     "metadata": {},
     "output_type": "execute_result"
    }
   ],
   "source": [
    "#Transform input variables and make predictions (add as a column to the DataFrame)\n",
    "EOS_scaled = scaler.transform(list(EOS['combined']))\n",
    "#make predictions\n",
    "EOS['labels'] = model.predict(EOS_scaled)\n",
    "\n",
    "EOS.head()"
   ]
  },
  {
   "cell_type": "code",
   "execution_count": 20,
   "metadata": {},
   "outputs": [],
   "source": [
    "#For each value of muBC, we want to select the smallest stable w for each alpha_diff\n",
    "\n",
    "#Select muB value \n",
    "all_pairs = []\n",
    "for muBval in muB:\n",
    "    list_vals = EOS[EOS['muB'] == muBval]\n",
    "\n",
    "    #Select stable choices only\n",
    "    list_vals_stable = list_vals[list_vals['labels'] == 1]\n",
    "\n",
    "#For each alpha, get smallest w that is stable\n",
    "    \n",
    "    pairs = []\n",
    "    for el in angle_diff_list:\n",
    "        new_df = list_vals_stable[list_vals_stable['angle_diff'] == el]\n",
    "        if len(new_df) != 0:\n",
    "            pairs.append([el,min(new_df['w'])])\n",
    "    all_pairs.append(pairs)"
   ]
  },
  {
   "cell_type": "code",
   "execution_count": 21,
   "metadata": {},
   "outputs": [
    {
     "data": {
      "image/png": "[encoded data removed]",
      "text/plain": [
       "<Figure size 576x576 with 4 Axes>"
      ]
     },
     "metadata": {
      "needs_background": "light"
     },
     "output_type": "display_data"
    }
   ],
   "source": [
    "fig, axs = plt.subplots(2, 2)\n",
    "\n",
    "axs[0, 0].scatter(*zip(*all_pairs[0]),marker = 'o', s= 30, color='black')\n",
    "axs[0, 0].set_title(r\"$\\mu_{BC} = 250$ MeV\")\n",
    "axs[0, 0].set_ylim([0, 10])\n",
    "\n",
    "\n",
    "axs[0, 1].scatter(*zip(*all_pairs[1]),\n",
    "                 marker = 'o', s= 30, color='black')\n",
    "axs[0, 1].set_title(r\"$\\mu_{BC} = 300$ MeV\")\n",
    "axs[0, 1].set_ylim([0, 10])\n",
    "\n",
    "axs[1, 0].scatter(*zip(*all_pairs[2]),\n",
    "                 marker = 'o', s= 30, color='black')\n",
    "axs[1, 0].set_title(r\"$\\mu_{BC} = 350$ MeV\")\n",
    "axs[1, 0].set_ylim([0, 10])\n",
    "\n",
    "axs[1, 1].scatter(*zip(*all_pairs[3]),\n",
    "                 marker = 'o', s= 30, color='black')\n",
    "axs[1, 1].set_title(r\"$\\mu_{BC} = 400$ MeV\")\n",
    "axs[1, 1].set_ylim([0, 10])\n",
    "\n",
    "for ax in axs.flat:\n",
    "    ax.set(xlabel=r'$\\alpha_{diff}$ [deg]', ylabel=r'$w_0$')\n",
    "\n",
    "# Hide x labels and tick labels for top plots and y ticks for right plots.\n",
    "for ax in axs.flat:\n",
    "    ax.label_outer()\n",
    "\n",
    "from matplotlib.pyplot import savefig\n",
    "\n",
    "savefig('Plots/vary_alpha_and_w')"
   ]
  },
  {
   "cell_type": "markdown",
   "metadata": {},
   "source": [
    "### It looks like two things are happening,\n",
    "1) The further away from the T-axis we place the critical point, the bigger than range in $\\alpha_{\\textrm{diff}}$ for which you can construct a larger critical region (small w)\n",
    "\n",
    "2) The further we get from orthogonality, the harder it is to get a stable EOS with a non-vanishing critical region (for w > 5 the critical region will be really small in most cases). Note that really small angles (|$\\alpha_{\\textrm{diff}}$| < 10) have no stable configurations for these choices of $\\mu_{BC}$ and $\\rho$."
   ]
  },
  {
   "cell_type": "markdown",
   "metadata": {},
   "source": [
    "### Note\n",
    "Great Stackoverflow post on plotting with colorbar legend\n",
    "https://stackoverflow.com/questions/14777066/matplotlib-discrete-colorbar\n"
   ]
  },
  {
   "cell_type": "markdown",
   "metadata": {},
   "source": [
    "## What points were queried?\n",
    "The points that were queried by the active learning algorithm can tell us a lot about the parameter space of the model (i.e. stability region boundaries). Information about the point queried during training is stored in\n",
    "\n",
    "~/EOS_ALF/Files_12_03_param_only_RfModel_MarginSamplingSelection/queried.dat\n",
    "\n",
    "This file contains the indices of the points selected with respect to all the points generated."
   ]
  },
  {
   "cell_type": "code",
   "execution_count": 26,
   "metadata": {},
   "outputs": [],
   "source": [
    "\n",
    "import csv\n",
    "#Import queried values as list\n",
    "with open(model_directory + 'queried.dat', newline='') as f:\n",
    "    reader = csv.reader(f)\n",
    "    your_list = list(reader)\n",
    "\n",
    "#Flatten list\n",
    "flat_list = [item for sublist in your_list for item in sublist]\n",
    "#Transform elements to ints\n",
    "flat_list = list(map(int,flat_list))\n"
   ]
  },
  {
   "cell_type": "code",
   "execution_count": 65,
   "metadata": {},
   "outputs": [],
   "source": [
    "#Import all files generated in training \n",
    "data = pd.read_csv('PC1PC2_all_thermo.dat', sep=\" \", header=None)\n",
    "\n",
    "column_names = ['CLASS','Tc', 'muBC','angle1','angle2','w','rho']\n",
    "vector_names = [];\n",
    "\n",
    "for i in range(0,1541):\n",
    "    vector_names.append('v_' +  str(i+1))\n",
    "    column_names.append('v_' +  str(i+1))\n",
    "\n",
    "data.columns = column_names;\n",
    "    \n",
    "#Last column will be NaN so it should be dropped\n",
    "data.drop(['v_1541'], axis=1, inplace = True);\n",
    "\n",
    "vector_names.remove('v_1541');\n",
    "\n",
    "#Check if there are any other NaN \n",
    "for i in range(0,1540):\n",
    "    string = 'v_' +  str(i+1)\n",
    "    check_for_nan = data[string].isnull().values.any()\n",
    "    if check_for_nan == True:\n",
    "        print('Check for NaN on ' + string)     \n",
    "\n",
    "#get the angle_diff parameter\n",
    "data.insert(3,'angle_diff', data['angle2'] - data['angle1'])\n",
    "data = data.drop(columns = ['angle1','angle2'])"
   ]
  },
  {
   "cell_type": "code",
   "execution_count": 66,
   "metadata": {},
   "outputs": [],
   "source": [
    "#We're only interested in the parameters associated with the point (the file contains more training information)\n",
    "training_points = data[['muBC','angle_diff','w','rho']]\n",
    "del(data)"
   ]
  },
  {
   "cell_type": "code",
   "execution_count": 67,
   "metadata": {},
   "outputs": [],
   "source": [
    "#Now we make a list containing only the training points that were queried\n",
    "\n",
    "queried_points = training_points.iloc[flat_list]"
   ]
  },
  {
   "cell_type": "code",
   "execution_count": 68,
   "metadata": {},
   "outputs": [
    {
     "data": {
      "text/html": [
       "<div>\n",
       "<style scoped>\n",
       "    .dataframe tbody tr th:only-of-type {\n",
       "        vertical-align: middle;\n",
       "    }\n",
       "\n",
       "    .dataframe tbody tr th {\n",
       "        vertical-align: top;\n",
       "    }\n",
       "\n",
       "    .dataframe thead th {\n",
       "        text-align: right;\n",
       "    }\n",
       "</style>\n",
       "<table border=\"1\" class=\"dataframe\">\n",
       "  <thead>\n",
       "    <tr style=\"text-align: right;\">\n",
       "      <th></th>\n",
       "      <th>muBC</th>\n",
       "      <th>angle_diff</th>\n",
       "      <th>w</th>\n",
       "      <th>rho</th>\n",
       "    </tr>\n",
       "  </thead>\n",
       "  <tbody>\n",
       "    <tr>\n",
       "      <th>657</th>\n",
       "      <td>420.0</td>\n",
       "      <td>-168</td>\n",
       "      <td>6.1</td>\n",
       "      <td>5.1</td>\n",
       "    </tr>\n",
       "    <tr>\n",
       "      <th>6894</th>\n",
       "      <td>380.0</td>\n",
       "      <td>-163</td>\n",
       "      <td>6.1</td>\n",
       "      <td>0.6</td>\n",
       "    </tr>\n",
       "    <tr>\n",
       "      <th>12749</th>\n",
       "      <td>340.0</td>\n",
       "      <td>-13</td>\n",
       "      <td>9.1</td>\n",
       "      <td>0.6</td>\n",
       "    </tr>\n",
       "    <tr>\n",
       "      <th>12805</th>\n",
       "      <td>340.0</td>\n",
       "      <td>-113</td>\n",
       "      <td>8.1</td>\n",
       "      <td>8.1</td>\n",
       "    </tr>\n",
       "    <tr>\n",
       "      <th>6814</th>\n",
       "      <td>380.0</td>\n",
       "      <td>-18</td>\n",
       "      <td>5.6</td>\n",
       "      <td>3.6</td>\n",
       "    </tr>\n",
       "  </tbody>\n",
       "</table>\n",
       "</div>"
      ],
      "text/plain": [
       "        muBC  angle_diff    w  rho\n",
       "657    420.0        -168  6.1  5.1\n",
       "6894   380.0        -163  6.1  0.6\n",
       "12749  340.0         -13  9.1  0.6\n",
       "12805  340.0        -113  8.1  8.1\n",
       "6814   380.0         -18  5.6  3.6"
      ]
     },
     "execution_count": 68,
     "metadata": {},
     "output_type": "execute_result"
    }
   ],
   "source": [
    "queried_points.head()"
   ]
  },
  {
   "cell_type": "code",
   "execution_count": 142,
   "metadata": {},
   "outputs": [
    {
     "data": {
      "image/png": "[encoded data removed]",
      "text/plain": [
       "<Figure size 576x576 with 4 Axes>"
      ]
     },
     "metadata": {
      "needs_background": "light"
     },
     "output_type": "display_data"
    }
   ],
   "source": [
    "#Now we can make a histogram of the points that were queried in each of the independent variables\n",
    "import matplotlib.pyplot as plt\n",
    "\n",
    "plt.rcParams['font.size'] = 20\n",
    "plt.rcParams['figure.figsize'] = [8,8]\n",
    "plt.rcParams['font.family'] = 'helvetica'\n",
    "plt.rcParams['lines.markersize'] = 12\n",
    "\n",
    "fig, axs = plt.subplots(2, 2)\n",
    "\n",
    "axs[0, 0].hist(queried_points['muBC'], 7, color = 'black', alpha=0.9)\n",
    "axs[0, 0].set_xlabel(r\"$\\mu_{BC}$ [MeV]\")\n",
    "axs[0, 0].set_ylabel(r\"$N_{samples}$\")\n",
    "\n",
    "\n",
    "axs[0, 1].hist(queried_points['w'], 7, color = 'black', alpha=0.9)\n",
    "axs[0, 1].set_xlabel(r\"$w$\")\n",
    "\n",
    "\n",
    "axs[1, 0].hist(queried_points['rho'], 7, color = 'black', alpha=0.9)\n",
    "axs[1,0].set_xlabel(r\"$\\rho$\")\n",
    "axs[1, 0].set_ylabel(r\"$N_{samples}$\")\n",
    "\n",
    "axs[1, 1].hist(queried_points['angle_diff'], 7, color = 'black', alpha=0.9)\n",
    "axs[1,1].set_xlabel(r\"$\\alpha_{diff}$ [deg]\")\n",
    "\n",
    "fig.tight_layout()\n",
    "\n",
    "from matplotlib.pyplot import savefig\n",
    "\n",
    "savefig('Plots/samples_histograms.png')"
   ]
  },
  {
   "cell_type": "markdown",
   "metadata": {},
   "source": [
    "We see that the only parameter for which there is a clear bias in the points that are being sampled is $\\mu_{BC}$. That is likely because the model does not struggle to classify critical points closer to the T-axis, which are largely unstable. However, in the larger $\\mu_{B}$ regime, where tons of different critical points are allowed to exist, it needs more samples."
   ]
  },
  {
   "cell_type": "code",
   "execution_count": null,
   "metadata": {},
   "outputs": [],
   "source": []
  }
 ],
 "metadata": {
  "kernelspec": {
   "display_name": "Python 3 (ipykernel)",
   "language": "python",
   "name": "python3"
  },
  "language_info": {
   "codemirror_mode": {
    "name": "ipython",
    "version": 3
   },
   "file_extension": ".py",
   "mimetype": "text/x-python",
   "name": "python",
   "nbconvert_exporter": "python",
   "pygments_lexer": "ipython3",
   "version": "3.9.7"
  }
 },
 "nbformat": 4,
 "nbformat_minor": 4
}
